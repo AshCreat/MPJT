{
  "nbformat": 4,
  "nbformat_minor": 0,
  "metadata": {
    "colab": {
      "provenance": [],
      "authorship_tag": "ABX9TyPX1wp92YKNpT66LniKAQzU",
      "include_colab_link": true
    },
    "kernelspec": {
      "name": "python3",
      "display_name": "Python 3"
    },
    "language_info": {
      "name": "python"
    }
  },
  "cells": [
    {
      "cell_type": "markdown",
      "metadata": {
        "id": "view-in-github",
        "colab_type": "text"
      },
      "source": [
        "<a href=\"https://colab.research.google.com/github/AshCreat/MPJT/blob/main/ResumeParser.ipynb\" target=\"_parent\"><img src=\"https://colab.research.google.com/assets/colab-badge.svg\" alt=\"Open In Colab\"/></a>"
      ]
    },
    {
      "cell_type": "code",
      "source": [
        "!pip install pdfminer.six\n"
      ],
      "metadata": {
        "colab": {
          "base_uri": "https://localhost:8080/"
        },
        "id": "Vsf5k6w8Yha_",
        "outputId": "69df8e8d-2834-46f2-b334-8864096b8874"
      },
      "execution_count": null,
      "outputs": [
        {
          "output_type": "stream",
          "name": "stdout",
          "text": [
            "Requirement already satisfied: pdfminer.six in /usr/local/lib/python3.11/dist-packages (20240706)\n",
            "Requirement already satisfied: charset-normalizer>=2.0.0 in /usr/local/lib/python3.11/dist-packages (from pdfminer.six) (3.4.1)\n",
            "Requirement already satisfied: cryptography>=36.0.0 in /usr/local/lib/python3.11/dist-packages (from pdfminer.six) (43.0.3)\n",
            "Requirement already satisfied: cffi>=1.12 in /usr/local/lib/python3.11/dist-packages (from cryptography>=36.0.0->pdfminer.six) (1.17.1)\n",
            "Requirement already satisfied: pycparser in /usr/local/lib/python3.11/dist-packages (from cffi>=1.12->cryptography>=36.0.0->pdfminer.six) (2.22)\n"
          ]
        }
      ]
    },
    {
      "cell_type": "code",
      "execution_count": null,
      "metadata": {
        "colab": {
          "base_uri": "https://localhost:8080/"
        },
        "id": "tG22MpgCXQwY",
        "outputId": "5141d49d-9fe6-44d5-f412-5d6cdc69ae90"
      },
      "outputs": [
        {
          "output_type": "stream",
          "name": "stdout",
          "text": [
            "ASHISH KUMAR SANKHUA\n",
            "8178293938 | ashishk172002@gmail.com |ashishsankhua1718\n",
            "\n",
            "EDUCATION\n",
            "B.Tech Computer Science\n",
            "& Engineering\n",
            "\n",
            "2021-25\n",
            "(7th semester)\n",
            "\n",
            "Greater Noida of Technology\n",
            "(GGSIPU)\n",
            "\n",
            "CBSE (Class XII)\n",
            "\n",
            "CBSE (Class X)\n",
            "\n",
            "2021\n",
            "\n",
            "2019\n",
            "\n",
            "Panchsheel Public school, New Delhi\n",
            "\n",
            "Panchsheel Public school, New Delhi\n",
            "\n",
            "8\n",
            "(CGPA)\n",
            "\n",
            "88(in %)\n",
            "\n",
            "86(in %)\n",
            "\n",
            "TECHNICAL SKILLS\n",
            "\n",
            "● Programming Language : Python (Pandas, Numpy, Matplotlib), SQL\n",
            "● Databases : MySQL\n",
            "● Data Visualisation Tools : Tableau, Power Bi, MS-Excel, MS-Office\n",
            "● Machine Learning\n",
            "\n",
            "SOFT SKILLS\n",
            "\n",
            "● Communication\n",
            "● Analytical Thinking\n",
            "● Problem Solving ,\n",
            "● Adaptability\n",
            "● Team Work\n",
            "\n",
            "INTERNSHIP/S\n",
            "Accenture North America Data Analytics and Visualization Job Simulation on Forage - July 2024\n",
            "\n",
            "● Completed a simulation focused on advising a hypothetical social media client as a Data Analyst at\n",
            "\n",
            "Accenture\n",
            "\n",
            "● Researched, collected data, cleaned and analyzed 7 datasets to uncover insights into content trends to\n",
            "inform strategic decisions and prepared a powerpoint deck and video presentation to communicate key\n",
            "insights for the client and internal stakeholders\n",
            "Data Science Intern |Oasis Infobyte - November 2023\n",
            "\n",
            "● Utilized Python and data visualization tools to analyze large datasets, uncovering insights that drove\n",
            "\n",
            "strategic decisions and process improvements within the organization by ensuring quality\n",
            "\n",
            "● Designed and developed dynamic dashboards and comprehensive reports using tools like Tableau and\n",
            "\n",
            "Power BI, enabling stakeholders to make data-driven decisions effectively.\n",
            "\n",
            "ACADEMIC PROJECTS\n",
            "\n",
            "● Created an advanced personal finance dashboard with Power BI; improved financial decision-making\n",
            "through detailed analysis and visualization of spending habits, savings rates, and investment\n",
            "performance.\n",
            "\n",
            "● Sales Insight/FMCG industry : Leveraged advanced analytics to sift through extensive datasets,\n",
            "increase in\n",
            "\n",
            "revealing significant sales trends and customer insights; pinpointed high-growth areas,\n",
            "market share for the FMCG industry\n",
            "\n",
            "POSITIONS OF RESPONSIBILITY\n",
            "\n",
            "● Campus Ambassador AT ABHYUDAY ( The Social body of IIT Bombay, Aug 2022 - May 2023 )\n",
            "● Campus Ambassador at Viral Fission (Brand Management Company, Dec 2022 - Aug 2023)\n",
            "\n",
            "CERTIFICATES\n",
            "\n",
            "● Python For Data Science, AI and Development By Coursera\n",
            "● Advanced SQL by Microsoft\n",
            "● Completed Data Analytics Essentials course by CISCO\n",
            "\n",
            "\f\n"
          ]
        }
      ],
      "source": [
        "import re\n",
        "from pdfminer.high_level import extract_text\n",
        "\n",
        "def extract_text_from_pdf(pdf_path):\n",
        "    return extract_text(pdf_path)\n",
        "\n",
        "resume_path = \"/content/AResume.pdf\"     # Correct file path\n",
        "text = extract_text_from_pdf(resume_path)  # Correct function call\n",
        "\n",
        "print(text)  # Print extracted text\n",
        "\n"
      ]
    },
    {
      "cell_type": "code",
      "source": [
        "import re\n",
        "\n",
        "def extract_contact_number_from_resume(text):\n",
        "    contact_number = None\n",
        "\n",
        "    # Use regex pattern to find a potential contact number\n",
        "    pattern = r\"\\b(?:\\+?\\d{1,3}[-.\\s]?)?\\(?\\d{3}\\)?[-.\\s]?\\d{3}[-.\\s]?\\d{4}\\b\"\n",
        "    match = re.search(pattern, text)\n",
        "    if match:\n",
        "        contact_number = match.group()\n",
        "\n",
        "    return contact_number\n",
        "\n",
        "phone = extract_contact_number_from_resume(text)\n",
        "phone"
      ],
      "metadata": {
        "id": "9nqd_PE4crwp",
        "colab": {
          "base_uri": "https://localhost:8080/",
          "height": 36
        },
        "outputId": "52734b24-6588-4a94-a601-dee48c6c9b9a"
      },
      "execution_count": null,
      "outputs": [
        {
          "output_type": "execute_result",
          "data": {
            "text/plain": [
              "'8178293938'"
            ],
            "application/vnd.google.colaboratory.intrinsic+json": {
              "type": "string"
            }
          },
          "metadata": {},
          "execution_count": 9
        }
      ]
    },
    {
      "cell_type": "code",
      "source": [
        "import re\n",
        "\n",
        "def extract_email_from_resume(text):\n",
        "    email = None\n",
        "\n",
        "    # Use regex pattern to find a potential email address\n",
        "    pattern = r\"\\b[A-Za-z0-9._%+-]+@[A-Za-z0-9.-]+\\.[A-Za-z]{2,}\\b\"\n",
        "    match = re.search(pattern, text)\n",
        "    if match:\n",
        "        email = match.group()\n",
        "\n",
        "    return email\n",
        "\n",
        "email = extract_email_from_resume(text)\n",
        "email"
      ],
      "metadata": {
        "id": "jdX5DvUnc2_Q",
        "colab": {
          "base_uri": "https://localhost:8080/",
          "height": 36
        },
        "outputId": "2eaabd3e-6381-46e7-c7a4-780c9d9bfc7c"
      },
      "execution_count": null,
      "outputs": [
        {
          "output_type": "execute_result",
          "data": {
            "text/plain": [
              "'ashishk172002@gmail.com'"
            ],
            "application/vnd.google.colaboratory.intrinsic+json": {
              "type": "string"
            }
          },
          "metadata": {},
          "execution_count": 10
        }
      ]
    },
    {
      "cell_type": "code",
      "source": [
        "import re\n",
        "\n",
        "def extract_skills_from_resume(text, skills_list):\n",
        "    skills = []\n",
        "\n",
        "    for skill in skills_list:\n",
        "        pattern = r\"\\b{}\\b\".format(re.escape(skill))\n",
        "        match = re.search(pattern, text, re.IGNORECASE)\n",
        "        if match:\n",
        "            skills.append(skill)\n",
        "\n",
        "    return skills\n",
        "\n",
        "\n",
        "# List of predefined skills\n",
        "skills_list = [\n",
        "    'Python', 'Data Analysis', 'Machine Learning', 'Communication', 'Project Management', 'Deep Learning', 'SQL', 'Tableau',\n",
        "    'Java', 'C++', 'JavaScript', 'HTML', 'CSS', 'React', 'Angular', 'Node.js', 'MongoDB', 'Express.js', 'Git',\n",
        "    'Research', 'Statistics', 'Quantitative Analysis', 'Qualitative Analysis', 'SPSS', 'R', 'Data Visualization', 'Matplotlib',\n",
        "    'Seaborn', 'Plotly', 'Pandas', 'Numpy', 'Scikit-learn', 'TensorFlow', 'Keras', 'PyTorch', 'NLTK', 'Text Mining',\n",
        "    'Natural Language Processing', 'Computer Vision', 'Image Processing', 'OCR', 'Speech Recognition', 'Recommendation Systems',\n",
        "    'Collaborative Filtering', 'Content-Based Filtering', 'Reinforcement Learning', 'Neural Networks', 'Convolutional Neural Networks',\n",
        "    'Recurrent Neural Networks', 'Generative Adversarial Networks', 'XGBoost', 'Random Forest', 'Decision Trees', 'Support Vector Machines',\n",
        "    'Linear Regression', 'Logistic Regression', 'K-Means Clustering', 'Hierarchical Clustering', 'DBSCAN', 'Association Rule Learning',\n",
        "    'Apache Hadoop', 'Apache Spark', 'MapReduce', 'Hive', 'HBase', 'Apache Kafka', 'Data Warehousing', 'ETL', 'Big Data Analytics',\n",
        "    'Cloud Computing', 'Amazon Web Services (AWS)', 'Microsoft Azure', 'Google Cloud Platform (GCP)', 'Docker', 'Kubernetes', 'Linux',\n",
        "    'Shell Scripting', 'Cybersecurity', 'Network Security', 'Penetration Testing', 'Firewalls', 'Encryption', 'Malware Analysis',\n",
        "    'Digital Forensics', 'CI/CD', 'DevOps', 'Agile Methodology', 'Scrum', 'Kanban', 'Continuous Integration', 'Continuous Deployment',\n",
        "    'Software Development', 'Web Development', 'Mobile Development', 'Backend Development', 'Frontend Development', 'Full-Stack Development',\n",
        "    'UI/UX Design', 'Responsive Design', 'Wireframing', 'Prototyping', 'User Testing', 'Adobe Creative Suite', 'Photoshop', 'Illustrator',\n",
        "    'InDesign', 'Figma', 'Sketch', 'Zeplin', 'InVision', 'Product Management', 'Market Research', 'Customer Development', 'Lean Startup',\n",
        "    'Business Development', 'Sales', 'Marketing', 'Content Marketing', 'Social Media Marketing', 'Email Marketing', 'SEO', 'SEM', 'PPC',\n",
        "    'Google Analytics', 'Facebook Ads', 'LinkedIn Ads', 'Lead Generation', 'Customer Relationship Management (CRM)', 'Salesforce',\n",
        "    'HubSpot', 'Zendesk', 'Intercom', 'Customer Support', 'Technical Support', 'Troubleshooting', 'Ticketing Systems', 'ServiceNow',\n",
        "    'ITIL', 'Quality Assurance', 'Manual Testing', 'Automated Testing', 'Selenium', 'JUnit', 'Load Testing', 'Performance Testing',\n",
        "    'Regression Testing', 'Black Box Testing', 'White Box Testing', 'API Testing', 'Mobile Testing', 'Usability Testing', 'Accessibility Testing',\n",
        "    'Cross-Browser Testing', 'Agile Testing', 'User Acceptance Testing', 'Software Documentation', 'Technical Writing', 'Copywriting',\n",
        "    'Editing', 'Proofreading', 'Content Management Systems (CMS)', 'WordPress', 'Joomla', 'Drupal', 'Magento', 'Shopify', 'E-commerce',\n",
        "    'Payment Gateways', 'Inventory Management', 'Supply Chain Management', 'Logistics', 'Procurement', 'ERP Systems', 'SAP', 'Oracle',\n",
        "    'Microsoft Dynamics', 'Tableau', 'Power BI', 'QlikView', 'Looker', 'Data Warehousing', 'ETL', 'Data Engineering', 'Data Governance',\n",
        "    'Data Quality', 'Master Data Management', 'Predictive Analytics', 'Prescriptive Analytics', 'Descriptive Analytics', 'Business Intelligence',\n",
        "    'Dashboarding', 'Reporting', 'Data Mining', 'Web Scraping', 'API Integration', 'RESTful APIs', 'GraphQL', 'SOAP', 'Microservices',\n",
        "    'Serverless Architecture', 'Lambda Functions', 'Event-Driven Architecture', 'Message Queues', 'GraphQL', 'Socket.io', 'WebSockets'\n",
        "'Ruby', 'Ruby on Rails', 'PHP', 'Symfony', 'Laravel', 'CakePHP', 'Zend Framework', 'ASP.NET', 'C#', 'VB.NET', 'ASP.NET MVC', 'Entity Framework',\n",
        "    'Spring', 'Hibernate', 'Struts', 'Kotlin', 'Swift', 'Objective-C', 'iOS Development', 'Android Development', 'Flutter', 'React Native', 'Ionic',\n",
        "    'Mobile UI/UX Design', 'Material Design', 'SwiftUI', 'RxJava', 'RxSwift', 'Django', 'Flask', 'FastAPI', 'Falcon', 'Tornado', 'WebSockets',\n",
        "    'GraphQL', 'RESTful Web Services', 'SOAP', 'Microservices Architecture', 'Serverless Computing', 'AWS Lambda', 'Google Cloud Functions',\n",
        "    'Azure Functions', 'Server Administration', 'System Administration', 'Network Administration', 'Database Administration', 'MySQL', 'PostgreSQL',\n",
        "    'SQLite', 'Microsoft SQL Server', 'Oracle Database', 'NoSQL', 'MongoDB', 'Cassandra', 'Redis', 'Elasticsearch', 'Firebase', 'Google Analytics',\n",
        "    'Google Tag Manager', 'Adobe Analytics', 'Marketing Automation', 'Customer Data Platforms', 'Segment', 'Salesforce Marketing Cloud', 'HubSpot CRM',\n",
        "    'Zapier', 'IFTTT', 'Workflow Automation', 'Robotic Process Automation (RPA)', 'UI Automation', 'Natural Language Generation (NLG)',\n",
        "    'Virtual Reality (VR)', 'Augmented Reality (AR)', 'Mixed Reality (MR)', 'Unity', 'Unreal Engine', '3D Modeling', 'Animation', 'Motion Graphics',\n",
        "    'Game Design', 'Game Development', 'Level Design', 'Unity3D', 'Unreal Engine 4', 'Blender', 'Maya', 'Adobe After Effects', 'Adobe Premiere Pro',\n",
        "    'Final Cut Pro', 'Video Editing', 'Audio Editing', 'Sound Design', 'Music Production', 'Digital Marketing', 'Content Strategy', 'Conversion Rate Optimization (CRO)',\n",
        "    'A/B Testing', 'Customer Experience (CX)', 'User Experience (UX)', 'User Interface (UI)', 'Persona Development', 'User Journey Mapping', 'Information Architecture (IA)',\n",
        "    'Wireframing', 'Prototyping', 'Usability Testing', 'Accessibility Compliance', 'Internationalization (I18n)', 'Localization (L10n)', 'Voice User Interface (VUI)',\n",
        "    'Chatbots', 'Natural Language Understanding (NLU)', 'Speech Synthesis', 'Emotion Detection', 'Sentiment Analysis', 'Image Recognition', 'Object Detection',\n",
        "    'Facial Recognition', 'Gesture Recognition', 'Document Recognition', 'Fraud Detection', 'Cyber Threat Intelligence', 'Security Information and Event Management (SIEM)',\n",
        "    'Vulnerability Assessment', 'Incident Response', 'Forensic Analysis', 'Security Operations Center (SOC)', 'Identity and Access Management (IAM)', 'Single Sign-On (SSO)',\n",
        "    'Multi-Factor Authentication (MFA)', 'Blockchain', 'Cryptocurrency', 'Decentralized Finance (DeFi)', 'Smart Contracts', 'Web3', 'Non-Fungible Tokens (NFTs)']\n",
        "\n",
        "extracted_skills = extract_skills_from_resume(text, skills_list)\n",
        "\n",
        "if extracted_skills:\n",
        "    print(\"Skills:\", extracted_skills)\n",
        "else:\n",
        "    print(\"No skills found\")"
      ],
      "metadata": {
        "id": "_BNXWcrvdBzu",
        "colab": {
          "base_uri": "https://localhost:8080/"
        },
        "outputId": "b4fc6f61-8c3c-418d-b034-06db75eb133b"
      },
      "execution_count": null,
      "outputs": [
        {
          "output_type": "stream",
          "name": "stdout",
          "text": [
            "Skills: ['Python', 'Machine Learning', 'Communication', 'SQL', 'Tableau', 'Data Visualization', 'Matplotlib', 'Pandas', 'Numpy', 'Sales', 'Tableau', 'Power BI', 'MySQL']\n"
          ]
        }
      ]
    },
    {
      "cell_type": "code",
      "source": [
        "import re\n",
        "\n",
        "def extract_education_from_resume(text):\n",
        "    education = []\n",
        "\n",
        "    # List of education keywords to match against\n",
        "    education_keywords = [\n",
        "        'Computer Science', 'Information Technology', 'Software Engineering', 'Electrical Engineering', 'Mechanical Engineering', 'Civil Engineering',\n",
        "        'Chemical Engineering', 'Biomedical Engineering', 'Aerospace Engineering', 'Nuclear Engineering', 'Industrial Engineering', 'Systems Engineering',\n",
        "        'Environmental Engineering', 'Petroleum Engineering', 'Geological Engineering', 'Marine Engineering', 'Robotics Engineering', 'Biotechnology',\n",
        "        'Biochemistry', 'Microbiology', 'Genetics', 'Molecular Biology', 'Bioinformatics', 'Neuroscience', 'Biophysics', 'Biostatistics', 'Pharmacology',\n",
        "        'Physiology', 'Anatomy', 'Pathology', 'Immunology', 'Epidemiology', 'Public Health', 'Health Administration', 'Nursing', 'Medicine', 'Dentistry',\n",
        "        'Pharmacy', 'Veterinary Medicine', 'Medical Technology', 'Radiography', 'Physical Therapy', 'Occupational Therapy', 'Speech Therapy', 'Nutrition',\n",
        "        'Sports Science', 'Kinesiology', 'Exercise Physiology', 'Sports Medicine', 'Rehabilitation Science', 'Psychology', 'Counseling', 'Social Work',\n",
        "        'Sociology', 'Anthropology', 'Criminal Justice', 'Political Science', 'International Relations', 'Economics', 'Finance', 'Accounting', 'Business Administration',\n",
        "        'Management', 'Marketing', 'Entrepreneurship', 'Hospitality Management', 'Tourism Management', 'Supply Chain Management', 'Logistics Management',\n",
        "        'Operations Management', 'Human Resource Management', 'Organizational Behavior', 'Project Management', 'Quality Management', 'Risk Management',\n",
        "        'Strategic Management', 'Public Administration', 'Urban Planning', 'Architecture', 'Interior Design', 'Landscape Architecture', 'Fine Arts',\n",
        "        'Visual Arts', 'Graphic Design', 'Fashion Design', 'Industrial Design', 'Product Design', 'Animation', 'Film Studies', 'Media Studies',\n",
        "        'Communication Studies', 'Journalism', 'Broadcasting', 'Creative Writing', 'English Literature', 'Linguistics', 'Translation Studies',\n",
        "        'Foreign Languages', 'Modern Languages', 'Classical Studies', 'History', 'Archaeology', 'Philosophy', 'Theology', 'Religious Studies',\n",
        "        'Ethics', 'Education', 'Early Childhood Education', 'Elementary Education', 'Secondary Education', 'Special Education', 'Higher Education',\n",
        "        'Adult Education', 'Distance Education', 'Online Education', 'Instructional Design', 'Curriculum Development'\n",
        "        'Library Science', 'Information Science', 'Computer Engineering', 'Software Development', 'Cybersecurity', 'Information Security',\n",
        "        'Network Engineering', 'Data Science', 'Data Analytics', 'Business Analytics', 'Operations Research', 'Decision Sciences',\n",
        "        'Human-Computer Interaction', 'User Experience Design', 'User Interface Design', 'Digital Marketing', 'Content Strategy',\n",
        "        'Brand Management', 'Public Relations', 'Corporate Communications', 'Media Production', 'Digital Media', 'Web Development',\n",
        "        'Mobile App Development', 'Game Development', 'Virtual Reality', 'Augmented Reality', 'Blockchain Technology', 'Cryptocurrency',\n",
        "        'Digital Forensics', 'Forensic Science', 'Criminalistics', 'Crime Scene Investigation', 'Emergency Management', 'Fire Science',\n",
        "        'Environmental Science', 'Climate Science', 'Meteorology', 'Geography', 'Geomatics', 'Remote Sensing', 'Geoinformatics',\n",
        "        'Cartography', 'GIS (Geographic Information Systems)', 'Environmental Management', 'Sustainability Studies', 'Renewable Energy',\n",
        "        'Green Technology', 'Ecology', 'Conservation Biology', 'Wildlife Biology', 'Zoology']\n",
        "\n",
        "    for keyword in education_keywords:\n",
        "        pattern = r\"(?i)\\b{}\\b\".format(re.escape(keyword))\n",
        "        match = re.search(pattern, text)\n",
        "        if match:\n",
        "            education.append(match.group())\n",
        "\n",
        "    return education\n",
        "\n",
        "extracted_education = extract_education_from_resume(text)\n",
        "if extracted_education:\n",
        "    print(\"Education:\", extracted_education)\n",
        "else:\n",
        "    print(\"No education information found\")"
      ],
      "metadata": {
        "id": "fFhvs0MOdNP4",
        "colab": {
          "base_uri": "https://localhost:8080/"
        },
        "outputId": "4ce39bc9-fd24-429b-b2b8-84069370e024"
      },
      "execution_count": null,
      "outputs": [
        {
          "output_type": "stream",
          "name": "stdout",
          "text": [
            "Education: ['Computer Science', 'finance', 'Management', 'EDUCATION', 'Data Science', 'Data Analytics', 'Brand Management']\n"
          ]
        }
      ]
    },
    {
      "cell_type": "code",
      "source": [
        "!pip install PyPDF2\n",
        "\n",
        "\n",
        "\n"
      ],
      "metadata": {
        "id": "LBIR9AhoGwf7",
        "colab": {
          "base_uri": "https://localhost:8080/"
        },
        "outputId": "6c49c68a-0b3e-4abc-e734-4ecb673fc997"
      },
      "execution_count": null,
      "outputs": [
        {
          "output_type": "stream",
          "name": "stdout",
          "text": [
            "Collecting PyPDF2\n",
            "  Downloading pypdf2-3.0.1-py3-none-any.whl.metadata (6.8 kB)\n",
            "Downloading pypdf2-3.0.1-py3-none-any.whl (232 kB)\n",
            "\u001b[?25l   \u001b[90m━━━━━━━━━━━━━━━━━━━━━━━━━━━━━━━━━━━━━━━━\u001b[0m \u001b[32m0.0/232.6 kB\u001b[0m \u001b[31m?\u001b[0m eta \u001b[36m-:--:--\u001b[0m\r\u001b[2K   \u001b[91m━━━━━━━━━━━━━━\u001b[0m\u001b[90m╺\u001b[0m\u001b[90m━━━━━━━━━━━━━━━━━━━━━━━━━\u001b[0m \u001b[32m81.9/232.6 kB\u001b[0m \u001b[31m2.9 MB/s\u001b[0m eta \u001b[36m0:00:01\u001b[0m\r\u001b[2K   \u001b[90m━━━━━━━━━━━━━━━━━━━━━━━━━━━━━━━━━━━━━━━━\u001b[0m \u001b[32m232.6/232.6 kB\u001b[0m \u001b[31m3.7 MB/s\u001b[0m eta \u001b[36m0:00:00\u001b[0m\n",
            "\u001b[?25hInstalling collected packages: PyPDF2\n",
            "Successfully installed PyPDF2-3.0.1\n"
          ]
        }
      ]
    },
    {
      "cell_type": "code",
      "source": [
        "# prompt: code to parse the pdf file and extract the name from of the candidate from it\n",
        "\n",
        "import re\n",
        "import PyPDF2\n",
        "\n",
        "def extract_name_from_resume(pdf_path):\n",
        "    name = None\n",
        "    try:\n",
        "        with open(pdf_path, 'rb') as file:\n",
        "            reader = PyPDF2.PdfReader(file)\n",
        "            text = \"\"\n",
        "            for page in reader.pages:\n",
        "                text += page.extract_text()\n",
        "\n",
        "            # Regular expression pattern to extract names\n",
        "            pattern = r\"([A-Z][a-z]+(?:\\s[A-Z][a-z]+)+)\"\n",
        "            match = re.search(pattern, text)\n",
        "            if match:\n",
        "                name = match.group(1)\n",
        "    except FileNotFoundError:\n",
        "        print(f\"Error: File not found at path: {pdf_path}\")\n",
        "    except Exception as e:\n",
        "        print(f\"An error occurred: {e}\")\n",
        "    return name\n",
        "\n",
        "resume_path = \"/content/AResume.pdf\"\n",
        "extracted_name = extract_name_from_resume(resume_path)\n",
        "\n",
        "if extracted_name:\n",
        "    print(\"Name:\", extracted_name)\n",
        "else:\n",
        "    print(\"Name not found in the resume.\")\n"
      ],
      "metadata": {
        "id": "BGTBOvYdQLGc",
        "colab": {
          "base_uri": "https://localhost:8080/"
        },
        "outputId": "107621d4-b0db-4ee3-8e1a-ecab9d4f0e3d"
      },
      "execution_count": null,
      "outputs": [
        {
          "output_type": "stream",
          "name": "stdout",
          "text": [
            "Name: Tech\n",
            "Computer\n",
            "Science\n"
          ]
        }
      ]
    },
    {
      "cell_type": "code",
      "source": [
        " AI Algorithms for Job-Role Matching and Scoring\n",
        "\n",
        "import numpy as np\n",
        "from sklearn.feature_extraction.text import TfidfVectorizer\n",
        "from sklearn.metrics.pairwise import cosine_similarity\n",
        "\n",
        "def calculate_job_match_score(resume_text, job_description):\n",
        "    # Combine resume text and job description for TF-IDF vectorization\n",
        "    documents = [resume_text, job_description]\n",
        "    tfidf_vectorizer = TfidfVectorizer()\n",
        "    tfidf_matrix = tfidf_vectorizer.fit_transform(documents)\n",
        "\n",
        "    # Calculate cosine similarity between the resume and job description\n",
        "    cosine_similarities = cosine_similarity(tfidf_matrix[0:1], tfidf_matrix[1:2])\n",
        "    match_percentage = cosine_similarities[0][0] * 100\n",
        "    return match_percentage\n",
        "\n",
        "# Example usage\n",
        "resume_text = text  # Use extracted text from the previous code\n",
        "job_description = \"\"\"\n",
        "    We are looking for a highly motivated Data Scientist with experience in Python, machine learning, and data visualization.\n",
        "    The ideal candidate will have strong analytical and problem-solving skills, and experience working with large datasets.\n",
        "    Experience in SQL and cloud computing platforms like AWS or Azure is a plus.\n",
        "\"\"\"\n",
        "\n",
        "match_score = calculate_job_match_score(resume_text, job_description)\n",
        "\n",
        "print(f\"Job Match Score: {match_score:.2f}%\")\n",
        "\n",
        "def generate_job_role_suggestions(resume_text, job_titles):\n",
        "    # Placeholder: Replace with an actual algorithm (e.g., using embeddings, NLP models)\n",
        "    # This is a simple example that checks for keyword matches.\n",
        "    suggestions = []\n",
        "    for title in job_titles:\n",
        "        if any(keyword in resume_text.lower() for keyword in title.lower().split()):\n",
        "            suggestions.append(title)\n",
        "\n",
        "    return suggestions\n",
        "\n",
        "# Example job titles\n",
        "job_titles = [\"Data Scientist\", \"Machine Learning Engineer\", \"Software Engineer\", \"Data Analyst\", \"Business Analyst\"]\n",
        "suggestions = generate_job_role_suggestions(resume_text, job_titles)\n",
        "\n",
        "print(f\"Job Role Suggestions: {suggestions}\")\n"
      ],
      "metadata": {
        "colab": {
          "base_uri": "https://localhost:8080/"
        },
        "id": "wTRf0lwcP32H",
        "outputId": "256c2ed9-b8a7-4231-b6e7-206151673c81"
      },
      "execution_count": null,
      "outputs": [
        {
          "output_type": "stream",
          "name": "stdout",
          "text": [
            "Job Match Score: 31.72%\n",
            "Job Role Suggestions: ['Data Scientist', 'Machine Learning Engineer', 'Software Engineer', 'Data Analyst', 'Business Analyst']\n"
          ]
        }
      ]
    }
  ]
}